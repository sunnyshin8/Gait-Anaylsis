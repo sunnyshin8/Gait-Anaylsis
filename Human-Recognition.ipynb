{
 "cells": [
  {
   "cell_type": "code",
   "execution_count": 1,
   "metadata": {},
   "outputs": [],
   "source": [
    "import numpy as np \n",
    "import pandas as pd\n",
    "from matplotlib import pyplot as plt\n",
    "import seaborn as sns"
   ]
  },
  {
   "cell_type": "code",
   "execution_count": 3,
   "metadata": {},
   "outputs": [],
   "source": [
    "#load data\n",
    "df = pd.read_csv('CSV_Formatted_Data.csv')"
   ]
  },
  {
   "cell_type": "code",
   "execution_count": 4,
   "metadata": {},
   "outputs": [],
   "source": [
    "df_train=pd.read_csv('CSV_Formatted_Data.csv')"
   ]
  },
  {
   "cell_type": "code",
   "execution_count": 5,
   "metadata": {},
   "outputs": [
    {
     "data": {
      "text/html": [
       "<div>\n",
       "<style scoped>\n",
       "    .dataframe tbody tr th:only-of-type {\n",
       "        vertical-align: middle;\n",
       "    }\n",
       "\n",
       "    .dataframe tbody tr th {\n",
       "        vertical-align: top;\n",
       "    }\n",
       "\n",
       "    .dataframe thead th {\n",
       "        text-align: right;\n",
       "    }\n",
       "</style>\n",
       "<table border=\"1\" class=\"dataframe\">\n",
       "  <thead>\n",
       "    <tr style=\"text-align: right;\">\n",
       "      <th></th>\n",
       "      <th>1</th>\n",
       "      <th>walkontoe</th>\n",
       "      <th>15:44:19.897</th>\n",
       "      <th>0.2129</th>\n",
       "      <th>-0.7217</th>\n",
       "      <th>1.6621</th>\n",
       "      <th>10.9253</th>\n",
       "      <th>23.0713</th>\n",
       "      <th>-8.6670</th>\n",
       "      <th>-34.5081</th>\n",
       "      <th>-8.3386</th>\n",
       "      <th>-1.0931</th>\n",
       "      <th>33.8534</th>\n",
       "      <th>Unnamed: 13</th>\n",
       "    </tr>\n",
       "  </thead>\n",
       "  <tbody>\n",
       "    <tr>\n",
       "      <th>0</th>\n",
       "      <td>1</td>\n",
       "      <td>walkontoe</td>\n",
       "      <td>15:44:19.898</td>\n",
       "      <td>0.2188</td>\n",
       "      <td>-0.6841</td>\n",
       "      <td>1.7085</td>\n",
       "      <td>8.5449</td>\n",
       "      <td>24.7803</td>\n",
       "      <td>-6.6528</td>\n",
       "      <td>-34.3927</td>\n",
       "      <td>-8.1683</td>\n",
       "      <td>-1.2854</td>\n",
       "      <td>33.8564</td>\n",
       "      <td>NaN</td>\n",
       "    </tr>\n",
       "    <tr>\n",
       "      <th>1</th>\n",
       "      <td>1</td>\n",
       "      <td>walkontoe</td>\n",
       "      <td>15:44:19.898</td>\n",
       "      <td>0.2300</td>\n",
       "      <td>-0.6777</td>\n",
       "      <td>1.7251</td>\n",
       "      <td>0.1831</td>\n",
       "      <td>24.2310</td>\n",
       "      <td>-6.4697</td>\n",
       "      <td>-34.3652</td>\n",
       "      <td>-8.0035</td>\n",
       "      <td>-1.4777</td>\n",
       "      <td>33.8652</td>\n",
       "      <td>NaN</td>\n",
       "    </tr>\n",
       "    <tr>\n",
       "      <th>2</th>\n",
       "      <td>1</td>\n",
       "      <td>walkontoe</td>\n",
       "      <td>15:44:19.898</td>\n",
       "      <td>0.2358</td>\n",
       "      <td>-0.7075</td>\n",
       "      <td>1.6978</td>\n",
       "      <td>-9.2773</td>\n",
       "      <td>21.4844</td>\n",
       "      <td>-6.8359</td>\n",
       "      <td>-34.4312</td>\n",
       "      <td>-7.8662</td>\n",
       "      <td>-1.6589</td>\n",
       "      <td>33.8564</td>\n",
       "      <td>NaN</td>\n",
       "    </tr>\n",
       "    <tr>\n",
       "      <th>3</th>\n",
       "      <td>1</td>\n",
       "      <td>walkontoe</td>\n",
       "      <td>15:44:19.898</td>\n",
       "      <td>0.2378</td>\n",
       "      <td>-0.7476</td>\n",
       "      <td>1.6519</td>\n",
       "      <td>-12.8784</td>\n",
       "      <td>19.2261</td>\n",
       "      <td>-6.8359</td>\n",
       "      <td>-34.5355</td>\n",
       "      <td>-7.7454</td>\n",
       "      <td>-1.8237</td>\n",
       "      <td>33.8534</td>\n",
       "      <td>NaN</td>\n",
       "    </tr>\n",
       "    <tr>\n",
       "      <th>4</th>\n",
       "      <td>1</td>\n",
       "      <td>walkontoe</td>\n",
       "      <td>15:44:19.898</td>\n",
       "      <td>0.2227</td>\n",
       "      <td>-0.7661</td>\n",
       "      <td>1.6191</td>\n",
       "      <td>-9.6436</td>\n",
       "      <td>18.9819</td>\n",
       "      <td>-5.9204</td>\n",
       "      <td>-34.6124</td>\n",
       "      <td>-7.6245</td>\n",
       "      <td>-1.9830</td>\n",
       "      <td>33.8623</td>\n",
       "      <td>NaN</td>\n",
       "    </tr>\n",
       "  </tbody>\n",
       "</table>\n",
       "</div>"
      ],
      "text/plain": [
       "   1  walkontoe  15:44:19.897  0.2129  -0.7217  1.6621  10.9253  23.0713  \\\n",
       "0  1  walkontoe  15:44:19.898  0.2188  -0.6841  1.7085   8.5449  24.7803   \n",
       "1  1  walkontoe  15:44:19.898  0.2300  -0.6777  1.7251   0.1831  24.2310   \n",
       "2  1  walkontoe  15:44:19.898  0.2358  -0.7075  1.6978  -9.2773  21.4844   \n",
       "3  1  walkontoe  15:44:19.898  0.2378  -0.7476  1.6519 -12.8784  19.2261   \n",
       "4  1  walkontoe  15:44:19.898  0.2227  -0.7661  1.6191  -9.6436  18.9819   \n",
       "\n",
       "   -8.6670  -34.5081  -8.3386  -1.0931  33.8534  Unnamed: 13  \n",
       "0  -6.6528  -34.3927  -8.1683  -1.2854  33.8564          NaN  \n",
       "1  -6.4697  -34.3652  -8.0035  -1.4777  33.8652          NaN  \n",
       "2  -6.8359  -34.4312  -7.8662  -1.6589  33.8564          NaN  \n",
       "3  -6.8359  -34.5355  -7.7454  -1.8237  33.8534          NaN  \n",
       "4  -5.9204  -34.6124  -7.6245  -1.9830  33.8623          NaN  "
      ]
     },
     "execution_count": 5,
     "metadata": {},
     "output_type": "execute_result"
    }
   ],
   "source": [
    "df_train.head()"
   ]
  },
  {
   "cell_type": "code",
   "execution_count": 6,
   "metadata": {},
   "outputs": [
    {
     "data": {
      "text/html": [
       "<div>\n",
       "<style scoped>\n",
       "    .dataframe tbody tr th:only-of-type {\n",
       "        vertical-align: middle;\n",
       "    }\n",
       "\n",
       "    .dataframe tbody tr th {\n",
       "        vertical-align: top;\n",
       "    }\n",
       "\n",
       "    .dataframe thead th {\n",
       "        text-align: right;\n",
       "    }\n",
       "</style>\n",
       "<table border=\"1\" class=\"dataframe\">\n",
       "  <thead>\n",
       "    <tr style=\"text-align: right;\">\n",
       "      <th></th>\n",
       "      <th>1</th>\n",
       "      <th>walkontoe</th>\n",
       "      <th>15:44:19.897</th>\n",
       "      <th>0.2129</th>\n",
       "      <th>-0.7217</th>\n",
       "      <th>1.6621</th>\n",
       "      <th>10.9253</th>\n",
       "      <th>23.0713</th>\n",
       "      <th>-8.6670</th>\n",
       "      <th>-34.5081</th>\n",
       "      <th>-8.3386</th>\n",
       "      <th>-1.0931</th>\n",
       "      <th>33.8534</th>\n",
       "      <th>Unnamed: 13</th>\n",
       "    </tr>\n",
       "  </thead>\n",
       "  <tbody>\n",
       "    <tr>\n",
       "      <th>72151</th>\n",
       "      <td>10</td>\n",
       "      <td>jogging</td>\n",
       "      <td>15:36:43.275</td>\n",
       "      <td>-0.0605</td>\n",
       "      <td>0.2568</td>\n",
       "      <td>1.7686</td>\n",
       "      <td>27.9541</td>\n",
       "      <td>18.6157</td>\n",
       "      <td>3.4790</td>\n",
       "      <td>-26.6583</td>\n",
       "      <td>65.1270</td>\n",
       "      <td>-60.5402</td>\n",
       "      <td>35.4594</td>\n",
       "      <td>NaN</td>\n",
       "    </tr>\n",
       "    <tr>\n",
       "      <th>72152</th>\n",
       "      <td>10</td>\n",
       "      <td>jogging</td>\n",
       "      <td>15:36:43.275</td>\n",
       "      <td>-0.0293</td>\n",
       "      <td>0.3091</td>\n",
       "      <td>1.8848</td>\n",
       "      <td>32.5317</td>\n",
       "      <td>55.9082</td>\n",
       "      <td>-48.8281</td>\n",
       "      <td>-27.8174</td>\n",
       "      <td>65.4071</td>\n",
       "      <td>-62.1716</td>\n",
       "      <td>35.4711</td>\n",
       "      <td>NaN</td>\n",
       "    </tr>\n",
       "    <tr>\n",
       "      <th>72153</th>\n",
       "      <td>10</td>\n",
       "      <td>jogging</td>\n",
       "      <td>15:36:43.275</td>\n",
       "      <td>-0.0313</td>\n",
       "      <td>0.3633</td>\n",
       "      <td>2.0269</td>\n",
       "      <td>72.6929</td>\n",
       "      <td>60.1196</td>\n",
       "      <td>-56.8237</td>\n",
       "      <td>-28.8007</td>\n",
       "      <td>65.6763</td>\n",
       "      <td>-64.0558</td>\n",
       "      <td>35.4653</td>\n",
       "      <td>NaN</td>\n",
       "    </tr>\n",
       "    <tr>\n",
       "      <th>72154</th>\n",
       "      <td>10</td>\n",
       "      <td>jogging</td>\n",
       "      <td>15:36:43.275</td>\n",
       "      <td>-0.0479</td>\n",
       "      <td>0.4219</td>\n",
       "      <td>2.1865</td>\n",
       "      <td>126.4648</td>\n",
       "      <td>21.5454</td>\n",
       "      <td>-28.4424</td>\n",
       "      <td>-28.3173</td>\n",
       "      <td>65.7257</td>\n",
       "      <td>-64.9127</td>\n",
       "      <td>35.4505</td>\n",
       "      <td>NaN</td>\n",
       "    </tr>\n",
       "    <tr>\n",
       "      <th>72155</th>\n",
       "      <td>10</td>\n",
       "      <td>jogging</td>\n",
       "      <td>15:36:43.275</td>\n",
       "      <td>-0.0391</td>\n",
       "      <td>0.4165</td>\n",
       "      <td>2.4741</td>\n",
       "      <td>179.4434</td>\n",
       "      <td>-19.5313</td>\n",
       "      <td>-4.2725</td>\n",
       "      <td>-26.4001</td>\n",
       "      <td>65.5334</td>\n",
       "      <td>-64.7754</td>\n",
       "      <td>35.4535</td>\n",
       "      <td>NaN</td>\n",
       "    </tr>\n",
       "  </tbody>\n",
       "</table>\n",
       "</div>"
      ],
      "text/plain": [
       "        1 walkontoe  15:44:19.897  0.2129  -0.7217  1.6621   10.9253  23.0713  \\\n",
       "72151  10   jogging  15:36:43.275 -0.0605   0.2568  1.7686   27.9541  18.6157   \n",
       "72152  10   jogging  15:36:43.275 -0.0293   0.3091  1.8848   32.5317  55.9082   \n",
       "72153  10   jogging  15:36:43.275 -0.0313   0.3633  2.0269   72.6929  60.1196   \n",
       "72154  10   jogging  15:36:43.275 -0.0479   0.4219  2.1865  126.4648  21.5454   \n",
       "72155  10   jogging  15:36:43.275 -0.0391   0.4165  2.4741  179.4434 -19.5313   \n",
       "\n",
       "       -8.6670  -34.5081  -8.3386  -1.0931  33.8534  Unnamed: 13  \n",
       "72151   3.4790  -26.6583  65.1270 -60.5402  35.4594          NaN  \n",
       "72152 -48.8281  -27.8174  65.4071 -62.1716  35.4711          NaN  \n",
       "72153 -56.8237  -28.8007  65.6763 -64.0558  35.4653          NaN  \n",
       "72154 -28.4424  -28.3173  65.7257 -64.9127  35.4505          NaN  \n",
       "72155  -4.2725  -26.4001  65.5334 -64.7754  35.4535          NaN  "
      ]
     },
     "execution_count": 6,
     "metadata": {},
     "output_type": "execute_result"
    }
   ],
   "source": [
    "df_train.tail()"
   ]
  },
  {
   "cell_type": "code",
   "execution_count": 7,
   "metadata": {},
   "outputs": [
    {
     "data": {
      "text/plain": [
       "(72156, 14)"
      ]
     },
     "execution_count": 7,
     "metadata": {},
     "output_type": "execute_result"
    }
   ],
   "source": [
    "df_train.shape"
   ]
  },
  {
   "cell_type": "code",
   "execution_count": 8,
   "metadata": {},
   "outputs": [
    {
     "data": {
      "text/plain": [
       "1                   0\n",
       "walkontoe           0\n",
       "15:44:19.897        0\n",
       "0.2129              3\n",
       "-0.7217             3\n",
       "1.6621              3\n",
       "10.9253             3\n",
       "23.0713             3\n",
       "-8.6670             3\n",
       "-34.5081            3\n",
       "-8.3386             3\n",
       "-1.0931             3\n",
       "33.8534             3\n",
       "Unnamed: 13     72156\n",
       "dtype: int64"
      ]
     },
     "execution_count": 8,
     "metadata": {},
     "output_type": "execute_result"
    }
   ],
   "source": [
    "df_train.isnull().sum()"
   ]
  },
  {
   "cell_type": "code",
   "execution_count": 10,
   "metadata": {},
   "outputs": [
    {
     "data": {
      "text/plain": [
       "array(['walkontoe', 'walkonheel', 'upstairs', 'downstairs', 'situps',\n",
       "       'normalwalk', 'jogging', 'situp', 'upstair', 'downstair'],\n",
       "      dtype=object)"
      ]
     },
     "execution_count": 10,
     "metadata": {},
     "output_type": "execute_result"
    }
   ],
   "source": [
    "df_train['walkontoe'].unique()"
   ]
  },
  {
   "cell_type": "code",
   "execution_count": 12,
   "metadata": {},
   "outputs": [
    {
     "data": {
      "image/png": "[encoded data removed]",
      "text/plain": [
       "<Figure size 800x500 with 1 Axes>"
      ]
     },
     "metadata": {},
     "output_type": "display_data"
    }
   ],
   "source": [
    "plt.figure(figsize=(8,5))\n",
    "axis=sns.countplot(x=\"walkontoe\",data=df_train)\n",
    "plt.xticks(x=df_train['walkontoe'],rotation='vertical')\n",
    "plt.show()"
   ]
  },
  {
   "cell_type": "code",
   "execution_count": 13,
   "metadata": {},
   "outputs": [
    {
     "data": {
      "text/plain": [
       "Index(['1', 'walkontoe', '15:44:19.897', '0.2129', '-0.7217', '1.6621',\n",
       "       '10.9253', '23.0713', '-8.6670', '-34.5081', '-8.3386', '-1.0931',\n",
       "       '33.8534', 'Unnamed: 13'],\n",
       "      dtype='object')"
      ]
     },
     "execution_count": 13,
     "metadata": {},
     "output_type": "execute_result"
    }
   ],
   "source": [
    "#print column names\n",
    "df_train.columns\n"
   ]
  }
 ],
 "metadata": {
  "kernelspec": {
   "display_name": "venv",
   "language": "python",
   "name": "python3"
  },
  "language_info": {
   "codemirror_mode": {
    "name": "ipython",
    "version": 3
   },
   "file_extension": ".py",
   "mimetype": "text/x-python",
   "name": "python",
   "nbconvert_exporter": "python",
   "pygments_lexer": "ipython3",
   "version": "3.9.13"
  }
 },
 "nbformat": 4,
 "nbformat_minor": 2
}
